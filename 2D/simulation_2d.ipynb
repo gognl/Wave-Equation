{
 "cells": [
  {
   "cell_type": "code",
   "execution_count": 20,
   "metadata": {
    "collapsed": false
   },
   "outputs": [
   ],
   "source": [
    "BUILTIN_SIMULATION = 'diffraction'  # הפעלת הגדרות השמורות לסימולציות ספציפיות\n",
    "# Can be 'reflection', 'diffraction', 'interference' or 'random drops'"
   ]
  },
  {
   "cell_type": "code",
   "execution_count": 21,
   "metadata": {
    "collapsed": false
   },
   "outputs": [
   ],
   "source": [
    "# ייבוא ספריות שונות\n",
    "from matplotlib import pyplot as plt, animation, cm, colors\n",
    "import numpy as np\n",
    "from numpy import pi\n",
    "from random import randint"
   ]
  },
  {
   "cell_type": "code",
   "execution_count": 22,
   "metadata": {
    "collapsed": false
   },
   "outputs": [
   ],
   "source": [
    "# איתחול ערכים שונים הרלוונטיים לגזרה בה מחשבים ולמהירות הגל\n",
    "x0 = 0\n",
    "xf = 400\n",
    "y0 = 0\n",
    "yf = 400\n",
    "t0 = 0\n",
    "tf = 320\n",
    "\n",
    "M = 384  # time steps\n",
    "N = 401  # space steps\n",
    "\n",
    "v = 0.7  # wave speed\n",
    "b = 0.01  # מקדם החיכוך"
   ]
  },
  {
   "cell_type": "code",
   "execution_count": 23,
   "metadata": {
    "collapsed": false
   },
   "outputs": [
   ],
   "source": [
    "# מחלקות שונות המספקות ממשק נוח לשימוש בסימולציה\n",
    "class Drop:  # מחלקה של טיפת מים\n",
    "    def __init__(self, wavelength: int, amplitude: int, x: int, y: int, frame=-1, once=False):\n",
    "        self.h = wavelength\n",
    "        self.A = amplitude\n",
    "        self.x = x\n",
    "        self.y = y\n",
    "        self.frame = frame\n",
    "        self.once = once\n",
    "        self.T = self.h//v\n",
    "\n",
    "class Tsunami:  # מחלקה של צונאמי - בעצם גל מחזורי שבא מקצה אחד של המשטח\n",
    "    def __init__(self, wavelength: int, amplitude: int, origin: str):\n",
    "        self.h = wavelength\n",
    "        self.A = amplitude\n",
    "        self.origin = origin\n",
    "\n",
    "class Wall:  # מחלקה של חומה, דרכה גלים אינם יכולים לעבור\n",
    "    def __init__(self, x0: int, xf: int, y0: int, yf: int):\n",
    "        self.x0 = x0\n",
    "        self.xf = xf\n",
    "        self.y0 = y0\n",
    "        self.yf = yf"
   ]
  },
  {
   "cell_type": "code",
   "execution_count": 24,
   "metadata": {
    "collapsed": false
   },
   "outputs": [
   ],
   "source": [
    "ELEMENTS = {'drops': [Drop(50, 10, N//2, N//2)], 'tsunamis': [], 'walls': []}  # מילון של האלמנטים המשמשים בסימולציה"
   ]
  },
  {
   "cell_type": "code",
   "execution_count": 25,
   "metadata": {
    "collapsed": false
   },
   "outputs": [
   ],
   "source": [
    "GRAPH_TITLE = f'2D Simulation (b={b})'  # כותרת הגרף\n",
    "CREATE_VIDEO = True  # האם ליצור סרטון או לא\n",
    "VIDEO_NAME = 'wave'  # שם הסרטון"
   ]
  },
  {
   "cell_type": "code",
   "execution_count": 26,
   "metadata": {
    "collapsed": false
   },
   "outputs": [
   ],
   "source": [
    "#  פונקצייה המגדירה כיצד ייראה המשטח בהתחלה\n",
    "def I(x, y):\n",
    "    \"\"\"Initial condition\"\"\"\n",
    "    return 0"
   ]
  },
  {
   "cell_type": "code",
   "execution_count": 27,
   "metadata": {
    "cocalc": {
     "outputs": {
      "0": {
       "name": "input",
       "opts": {
        "password": false,
        "prompt": "Enter wavelength: "
       },
       "output_type": "stream",
       "value": "30"
      },
      "1": {
       "name": "input",
       "opts": {
        "password": false,
        "prompt": "Enter amplitude: "
       },
       "output_type": "stream",
       "value": "100"
      },
      "2": {
       "name": "input",
       "opts": {
        "password": false,
        "prompt": "Enter slit width: "
       },
       "output_type": "stream",
       "value": "30"
      },
      "3": {
       "name": "input",
       "opts": {
        "password": false,
        "prompt": "Enter number of slits: "
       },
       "output_type": "stream",
       "value": "1"
      }
     }
    },
    "collapsed": false
   },
   "outputs": [
    {
     "name": "stdout",
     "output_type": "stream",
     "text": "Enter wavelength:  30"
    },
    {
     "name": "stdout",
     "output_type": "stream",
     "text": "Enter amplitude:  100"
    },
    {
     "name": "stdout",
     "output_type": "stream",
     "text": "Enter slit width:  30"
    },
    {
     "name": "stdout",
     "output_type": "stream",
     "text": "Enter number of slits:  1"
    }
   ],
   "source": [
    "# הגדרת ההגדרות השמורות לסימולציות אם נבחרה סימולציה מסוימת\n",
    "\n",
    "if BUILTIN_SIMULATION == 'reflection':  # החזרה של גל מים מעגלי בודד מקצה המשטח\n",
    "    A = int(input('Enter amplitude: '))\n",
    "\n",
    "    GRAPH_TITLE = 'Reflection'\n",
    "    ELEMENTS = {'drops': [Drop(-1, A, N//10, N//2, frame=1, once=True)],\n",
    "                'tsunamis': [],\n",
    "                'walls': []}\n",
    "\n",
    "elif BUILTIN_SIMULATION == 'diffraction':  # עקיפה בסדק/ים\n",
    "    h = int(input('Enter wavelength: '))\n",
    "    A = int(input('Enter amplitude: '))\n",
    "    w = int(input('Enter slit width: '))\n",
    "    n = int(input('Enter number of slits: '))\n",
    "\n",
    "    GRAPH_TITLE = f'{n} Slit{\"s\"[:n^1]} Diffraction'\n",
    "    wall_length = (N-n*w)//(n+1)\n",
    "    ELEMENTS = {'drops': [], 'tsunamis': [Tsunami(h, A, 'x0')],\n",
    "                'walls': [Wall(N//10, N//10+1, i*(wall_length+w),\n",
    "                               i*(wall_length+w)+wall_length)\n",
    "                          for i in range(n+1)]}\n",
    "    # יצירת צונאמי (גל מקור, שיעבור דרך הסדק), ויצירת הסדק על ידי יצירת חומות מסביבו\n",
    "\n",
    "elif BUILTIN_SIMULATION == 'interference':  # התאבכות משני מקורות\n",
    "    h = int(input('Enter wavelength: '))\n",
    "    A = int(input('Enter amplitude: '))\n",
    "    d = int(input('Enter distance between sources: '))\n",
    "\n",
    "    GRAPH_TITLE = 'Two Sources Interference'\n",
    "    ELEMENTS = {'drops': [Drop(h, A, N//2-d//2, N//2), Drop(h, A, N//2+d//2, N//2)],\n",
    "                'tsunamis': [],\n",
    "                'walls': []}\n",
    "    # יצירת שני המקורות (טיפות) שייצרו את ההתאבכות\n",
    "\n",
    "elif BUILTIN_SIMULATION == 'random drops':  # טיפות רנדומליות שנופלות במשטח\n",
    "    n = int(input('Enter number of drops: '))\n",
    "    A = int(input('Enter amplitude (or -x for random amplitudes between 1 and x): '))\n",
    "30\n",
    "\n",
    "    GRAPH_TITLE = f'{n} Random Drop{\"s\"[:n^1]}'\n",
    "    if A < 0:\n",
    "        ELEMENTS = {'drops': [Drop(-1, randint(1, -A), randint(1, N), randint(1, N),\n",
    "                                   randint(1, M), True) for _ in range(n)],\n",
    "                    'tsunamis': [],\n",
    "                    'walls': []}\n",
    "        # יצירת הטיפות עם משרעת רנדומלית\n",
    "    else:\n",
    "        ELEMENTS = {'drops': [Drop(-1, A, randint(1, N), randint(1, N), randint(1, M), True) for _ in range(n)],\n",
    "                    'tsunamis': [],\n",
    "                    'walls': []}\n",
    "        # יצירת הטיפות עם משרעת קבועה"
   ]
  },
  {
   "cell_type": "code",
   "execution_count": 28,
   "metadata": {
    "collapsed": false
   },
   "outputs": [
   ],
   "source": [
    "#  אתחול הרשימות של המיקום והזמן\n",
    "x, dx = np.linspace(x0, xf, N, retstep=True)\n",
    "y, dy = np.linspace(y0, yf, N, retstep=True)\n",
    "t, dt = np.linspace(t0, tf, M, retstep=True)"
   ]
  },
  {
   "cell_type": "code",
   "execution_count": 29,
   "metadata": {
    "collapsed": false
   },
   "outputs": [
   ],
   "source": [
    "#  אתחול רשימת ההעתק\n",
    "u = np.zeros((M, N, N))\n",
    "for i, x_val in enumerate(x):\n",
    "    for j, y_val in enumerate(y):\n",
    "        u[0][i][j] = I(x_val, y_val)\n",
    "        u[1][i][j] = I(x_val, y_val)"
   ]
  },
  {
   "cell_type": "code",
   "execution_count": 30,
   "metadata": {
    "collapsed": false
   },
   "outputs": [
   ],
   "source": [
    "# יצירת הצונאמים: הם למעשה תנאי קצה מסוימים בקצוות המשטח\n",
    "for tsunami in ELEMENTS['tsunamis']:\n",
    "    if tsunami.origin == 'x0':\n",
    "        for i in range(0, M):\n",
    "            u[i, 0, :] = tsunami.A*np.sin((2*pi*v/tsunami.h)*t[i])\n",
    "    elif tsunami.origin == 'xf':\n",
    "        for i in range(0, M):\n",
    "            u[i, N-1, :] = tsunami.A*np.sin((2*pi*v/tsunami.h)*t[i])\n",
    "    elif tsunami.origin == 'y0':\n",
    "        for i in range(0, M):\n",
    "            u[i, :, 0] = tsunami.A*np.sin((2*pi*v/tsunami.h)*t[i])\n",
    "    elif tsunami.origin == 'yf':\n",
    "        for i in range(0, M):\n",
    "            u[i, :, N-1] = tsunami.A*np.sin((2*pi*v/tsunami.h)*t[i])"
   ]
  },
  {
   "cell_type": "code",
   "execution_count": 31,
   "metadata": {
    "collapsed": false
   },
   "outputs": [
   ],
   "source": [
    "# שמירת ערכים שונים בהם משתמשים בחישוב\n",
    "c1 = ((v*dt)**2)\n",
    "c2 = (dx**2)\n",
    "c3 = (dy**2)\n",
    "c4 = 2 + b*dt\n",
    "c5 = 1 + b*dt"
   ]
  },
  {
   "cell_type": "code",
   "execution_count": 32,
   "metadata": {
    "collapsed": false
   },
   "outputs": [
   ],
   "source": [
    "for i in range(1, M-1):\n",
    "\n",
    "    # יצירת טיפות בעת הצורך\n",
    "    for drop in ELEMENTS['drops']:\n",
    "        if (i == drop.frame and drop.once) or ((i-1) % drop.T == 0 and not drop.once):\n",
    "            x_t = drop.x\n",
    "            y_t = drop.y\n",
    "            u[i, x_t-2:x_t+2, y_t-2:y_t+2] = drop.A\n",
    "\n",
    "    # יצירת חומות בעת הצורך\n",
    "    for wall in ELEMENTS['walls']:\n",
    "        u[i, wall.x0:wall.xf, wall.y0:wall.yf] = 0\n",
    "\n",
    "    # הסימולציה\n",
    "    u[i+1, 1:N-1, 1:N-1] = (c1*((u[i, 2:N, 1:N-1] - 2*u[i, 1:N-1, 1:N-1] + u[i, 0:N-2, 1:N-1])/c2\n",
    "                                + (u[i, 1:N-1, 2:N] - 2*u[i, 1:N-1, 1:N-1] + u[i, 1:N-1, 0:N-2])/c3)\n",
    "                            + c4*u[i, 1:N-1, 1:N-1] - u[i-1, 1:N-1, 1:N-1])/c5"
   ]
  },
  {
   "cell_type": "code",
   "execution_count": 33,
   "metadata": {
    "collapsed": false
   },
   "outputs": [
    {
     "data": {
      "image/png": "[encoded data removed]",
      "text/plain": [
       "<Figure size 720x720 with 2 Axes>"
      ]
     },
     "execution_count": 33,
     "metadata": {
      "image/png": {
       "height": 485,
       "width": 564
      },
      "needs_background": "light"
     },
     "output_type": "execute_result"
    }
   ],
   "source": [
    "fig = plt.figure(figsize=(10, 10))\n",
    "my_norm = colors.Normalize(vmin=np.amin(u), vmax=np.amax(u))  # יצירת נורמל, שישמור על צבעים קבועים לאורך הסימולציה\n",
    "ax = plt.axes(projection=\"3d\", xlim=(x0, xf), ylim=(y0, yf), zlim=(np.amin(u), np.amax(u)))\n",
    "x_i, y_i = np.meshgrid(x, y)\n",
    "line = ax.plot_surface(x_i, y_i, u[-1], cmap=cm.coolwarm, linewidth=0, antialiased=False, norm=my_norm)  # יצירת הגרף\n",
    "\n",
    "ax.set_xlabel('x [m]')\n",
    "ax.set_ylabel('y [m]')\n",
    "ax.set_zticks([])\n",
    "ax.grid(False)\n",
    "ax.set_title(GRAPH_TITLE, fontsize=20)\n",
    "fig.colorbar(cm.ScalarMappable(norm=my_norm, cmap=cm.coolwarm), ax=ax, shrink=0.5)  # הוספת מקרא צבעים\n",
    "\n",
    "# הוספת טקסט של הזמן הנוכחי\n",
    "time = f\"t={t[-1]}$_{{{'s'}}}$\"\n",
    "txt = plt.figtext(0, 0, time, wrap=True, horizontalalignment='center', fontsize=12, transform = ax.transAxes)\n",
    "\n",
    "ax.view_init(90, 0)  # הגדרת זווית הצפייה בגרף\n",
    "plt.show()"
   ]
  },
  {
   "cell_type": "code",
   "execution_count": 34,
   "metadata": {
    "collapsed": false
   },
   "outputs": [
   ],
   "source": [
    "def init():\n",
    "    line = ax.plot_surface(x_i, y_i, u[0], cmap=cm.coolwarm, linewidth=0, antialiased=False, norm=my_norm)\n",
    "    return line,"
   ]
  },
  {
   "cell_type": "code",
   "execution_count": 35,
   "metadata": {
    "collapsed": false
   },
   "outputs": [
   ],
   "source": [
    "def animate(i):\n",
    "    ax.clear()\n",
    "    line = ax.plot_surface(x_i, y_i, u[i], cmap=cm.coolwarm, linewidth=0, antialiased=False, norm=my_norm)\n",
    "    ax.set_zlim((np.amin(u), np.amax(u)))\n",
    "    txt.set_text(f\"t={t[i]}$_{{{'s'}}}$\")  # עדכון הזמן על המסך\n",
    "    return line,"
   ]
  },
  {
   "cell_type": "code",
   "execution_count": 36,
   "metadata": {
    "collapsed": false
   },
   "outputs": [
   ],
   "source": [
    "if CREATE_VIDEO:\n",
    "    anim = animation.FuncAnimation(fig, animate, init_func=init, frames=M, interval=10, blit=True)\n",
    "    anim.save(f'{VIDEO_NAME}.mp4', fps=30, extra_args=('-vcodec', 'libx264'))\n",
    "    plt.show()"
   ]
  },
  {
   "cell_type": "code",
   "execution_count": 0,
   "metadata": {
    "collapsed": false
   },
   "outputs": [
   ],
   "source": [
   ]
  }
 ],
 "metadata": {
  "kernelspec": {
   "argv": [
    "/ext/anaconda2021.11/bin/python3",
    "-E",
    "-m",
    "ipykernel",
    "--matplotlib=inline",
    "-c",
    "%config InlineBackend.figure_formats = set(['retina'])\nimport matplotlib; matplotlib.rcParams['figure.figsize'] = (12, 7)",
    "-f",
    "{connection_file}"
   ],
   "display_name": "Python 3 (Anaconda 2021)",
   "env": {
    "ADDR2LINE": "/ext/anaconda2021.11/bin/x86_64-conda_cos6-linux-gnu-addr2line",
    "ANACONDA2021": "/ext/anaconda2021.11",
    "ANACONDA3": "$EXT/anaconda3",
    "ANACONDA5": "$EXT/anaconda5",
    "AR": "/ext/anaconda2021.11/bin/x86_64-conda_cos6-linux-gnu-ar",
    "AS": "/ext/anaconda2021.11/bin/x86_64-conda_cos6-linux-gnu-as",
    "CC": "/ext/anaconda2021.11/bin/x86_64-conda_cos6-linux-gnu-cc",
    "CFLAGS": "-march=nocona -mtune=haswell -ftree-vectorize -fPIC -fstack-protector-strong -fno-plt -O2 -ffunction-sections -pipe -isystem /ext/anaconda2021.11/include",
    "CMAKE_PREFIX_PATH": "/ext/anaconda2021.11:/ext/anaconda2021.11/x86_64-conda_cos6-linux-gnu/sysroot/usr",
    "CONDA_BACKUP_HOST": "x86_64-conda_cos6-linux-gnu",
    "CONDA_BUILD_SYSROOT": "/ext/anaconda2021.11/x86_64-conda_cos6-linux-gnu/sysroot",
    "CONDA_DEFAULT_ENV": "base",
    "CONDA_EXE": "/ext/anaconda2021.11/bin/conda",
    "CONDA_MKL_INTERFACE_LAYER_BACKUP": "",
    "CONDA_PREFIX": "/ext/anaconda2021.11",
    "CONDA_PROMPT_MODIFIER": "(base) ",
    "CONDA_PYTHON_EXE": "/ext/anaconda2021.11/bin/python",
    "CONDA_SHLVL": "1",
    "CPP": "/ext/anaconda2021.11/bin/x86_64-conda_cos6-linux-gnu-cpp",
    "CPPFLAGS": "-DNDEBUG -D_FORTIFY_SOURCE=2 -O2 -isystem /ext/anaconda2021.11/include",
    "CXX": "/ext/anaconda2021.11/bin/x86_64-conda_cos6-linux-gnu-c++",
    "CXXFILT": "/ext/anaconda2021.11/bin/x86_64-conda_cos6-linux-gnu-c++filt",
    "CXXFLAGS": "-fvisibility-inlines-hidden -std=c++17 -fmessage-length=0 -march=nocona -mtune=haswell -ftree-vectorize -fPIC -fstack-protector-strong -fno-plt -O2 -ffunction-sections -pipe -isystem /ext/anaconda2021.11/include",
    "DEBUG_CFLAGS": "-march=nocona -mtune=haswell -ftree-vectorize -fPIC -fstack-protector-all -fno-plt -Og -g -Wall -Wextra -fvar-tracking-assignments -ffunction-sections -pipe -isystem /ext/anaconda2021.11/include",
    "DEBUG_CPPFLAGS": "-D_DEBUG -D_FORTIFY_SOURCE=2 -Og -isystem /ext/anaconda2021.11/include",
    "DEBUG_CXXFLAGS": "-fvisibility-inlines-hidden -std=c++17 -fmessage-length=0 -march=nocona -mtune=haswell -ftree-vectorize -fPIC -fstack-protector-all -fno-plt -Og -g -Wall -Wextra -fvar-tracking-assignments -ffunction-sections -pipe -isystem /ext/anaconda2021.11/include",
    "DEBUG_FFLAGS": "-fopenmp -march=nocona -mtune=haswell -ftree-vectorize -fPIC -fstack-protector-strong -fno-plt -O2 -ffunction-sections -pipe -isystem /ext/anaconda2021.11/include -fopenmp -march=nocona -mtune=haswell -ftree-vectorize -fPIC -fstack-protector-all -fno-plt -Og -g -Wall -Wextra -fcheck=all -fbacktrace -fimplicit-none -fvar-tracking-assignments -ffunction-sections -pipe",
    "DEBUG_FORTRANFLAGS": "-fopenmp -march=nocona -mtune=haswell -ftree-vectorize -fPIC -fstack-protector-strong -fno-plt -O2 -ffunction-sections -pipe -isystem /ext/anaconda2021.11/include -fopenmp -march=nocona -mtune=haswell -ftree-vectorize -fPIC -fstack-protector-all -fno-plt -Og -g -Wall -Wextra -fcheck=all -fbacktrace -fimplicit-none -fvar-tracking-assignments -ffunction-sections -pipe",
    "ELFEDIT": "/ext/anaconda2021.11/bin/x86_64-conda_cos6-linux-gnu-elfedit",
    "F77": "/ext/anaconda2021.11/bin/x86_64-conda_cos6-linux-gnu-gfortran",
    "F90": "/ext/anaconda2021.11/bin/x86_64-conda_cos6-linux-gnu-gfortran",
    "F95": "/ext/anaconda2021.11/bin/x86_64-conda_cos6-linux-gnu-f95",
    "FC": "/ext/anaconda2021.11/bin/x86_64-conda_cos6-linux-gnu-gfortran",
    "FFLAGS": "-fopenmp -march=nocona -mtune=haswell -ftree-vectorize -fPIC -fstack-protector-strong -fno-plt -O2 -ffunction-sections -pipe -isystem /ext/anaconda2021.11/include",
    "FORTRANFLAGS": "-fopenmp -march=nocona -mtune=haswell -ftree-vectorize -fPIC -fstack-protector-strong -fno-plt -O2 -ffunction-sections -pipe -isystem /ext/anaconda2021.11/include",
    "GCC": "/ext/anaconda2021.11/bin/x86_64-conda_cos6-linux-gnu-gcc",
    "GCC_AR": "/ext/anaconda2021.11/bin/x86_64-conda_cos6-linux-gnu-gcc-ar",
    "GCC_NM": "/ext/anaconda2021.11/bin/x86_64-conda_cos6-linux-gnu-gcc-nm",
    "GCC_RANLIB": "/ext/anaconda2021.11/bin/x86_64-conda_cos6-linux-gnu-gcc-ranlib",
    "GDAL_DATA": "/ext/anaconda2021.11/share/gdal",
    "GFORTRAN": "/ext/anaconda2021.11/bin/x86_64-conda_cos6-linux-gnu-gfortran",
    "GPROF": "/ext/anaconda2021.11/bin/x86_64-conda_cos6-linux-gnu-gprof",
    "GXX": "/ext/anaconda2021.11/bin/x86_64-conda_cos6-linux-gnu-g++",
    "JAVA_HOME": "/ext/anaconda2021.11",
    "JAVA_HOME_CONDA_BACKUP": "",
    "JAVA_LD_LIBRARY_PATH": "/ext/anaconda2021.11/lib/server",
    "LD": "/ext/anaconda2021.11/bin/x86_64-conda_cos6-linux-gnu-ld",
    "LDFLAGS": "-Wl,-O2 -Wl,--sort-common -Wl,--as-needed -Wl,-z,relro -Wl,-z,now -Wl,--disable-new-dtags -Wl,--gc-sections -Wl,-rpath,/ext/anaconda2021.11/lib -Wl,-rpath-link,/ext/anaconda2021.11/lib -L/ext/anaconda2021.11/lib",
    "LD_GOLD": "/ext/anaconda2021.11/bin/x86_64-conda_cos6-linux-gnu-ld.gold",
    "LD_LIBRARY_PATH": "/ext/anaconda2021.11/lib",
    "MKL_INTERFACE_LAYER": "LP64,GNU",
    "MKL_THREADING_LAYER": "GNU",
    "NM": "/ext/anaconda2021.11/bin/x86_64-conda_cos6-linux-gnu-nm",
    "OBJCOPY": "/ext/anaconda2021.11/bin/x86_64-conda_cos6-linux-gnu-objcopy",
    "OBJDUMP": "/ext/anaconda2021.11/bin/x86_64-conda_cos6-linux-gnu-objdump",
    "OLDPWD": "/ext/anaconda2021.11",
    "PATH": "/ext/anaconda2021.11/bin:/ext/anaconda2021.11/bin:/ext/anaconda2021.11/condabin:/cocalc/bin:/cocalc/src/smc-project/bin:/home/salvus/bin:/home/salvus/.local/bin:/usr/lib/xpra:/ext/bin:/opt/ghc/bin:/usr/local/sbin:/usr/local/bin:/usr/sbin:/usr/bin:/sbin:/bin:/snap/bin:/usr/lib/postgresql/10/bin:/ext/data/homer/bin:/ext/data/weblogo",
    "PROJ_LIB": "/ext/anaconda2021.11/share/proj",
    "RANLIB": "/ext/anaconda2021.11/bin/x86_64-conda_cos6-linux-gnu-ranlib",
    "READELF": "/ext/anaconda2021.11/bin/x86_64-conda_cos6-linux-gnu-readelf",
    "RSTUDIO_WHICH_R": "/ext/anaconda2021.11/bin/R",
    "SIZE": "/ext/anaconda2021.11/bin/x86_64-conda_cos6-linux-gnu-size",
    "STRINGS": "/ext/anaconda2021.11/bin/x86_64-conda_cos6-linux-gnu-strings",
    "STRIP": "/ext/anaconda2021.11/bin/x86_64-conda_cos6-linux-gnu-strip",
    "_CE_CONDA": "",
    "_CE_M": "",
    "_CONDA_PYTHON_SYSCONFIGDATA_NAME": "_sysconfigdata_x86_64_conda_cos6_linux_gnu"
   },
   "language": "python",
   "metadata": {
    "cocalc": {
     "description": "Anaconda 2021.11 Python 3 environment",
     "priority": 10,
     "url": "https://www.anaconda.com/distribution/"
    }
   },
   "name": "anaconda2021",
   "resource_dir": "/ext/jupyter/kernels/anaconda2021"
  },
  "language_info": {
   "codemirror_mode": {
    "name": "ipython",
    "version": 3
   },
   "file_extension": ".py",
   "mimetype": "text/x-python",
   "name": "python",
   "nbconvert_exporter": "python",
   "pygments_lexer": "ipython3",
   "version": "3.9.7"
  }
 },
 "nbformat": 4,
 "nbformat_minor": 4
}